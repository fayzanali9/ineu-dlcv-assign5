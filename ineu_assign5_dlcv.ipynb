{
  "nbformat": 4,
  "nbformat_minor": 0,
  "metadata": {
    "colab": {
      "name": "ineu_assign5_dlcv.ipynb",
      "provenance": []
    },
    "kernelspec": {
      "name": "python3",
      "display_name": "Python 3"
    }
  },
  "cells": [
    {
      "cell_type": "code",
      "metadata": {
        "id": "0zr3Bif0CXmK",
        "colab": {
          "base_uri": "https://localhost:8080/"
        },
        "outputId": "274503f8-6347-4610-f2f1-1cf114ed1ab6"
      },
      "source": [
        "# 1. Write a function to compute 5/0 and use try/except to catch the exceptions.\n",
        "\n",
        "def func():\n",
        "  try:\n",
        "    r = 5/0\n",
        "  except ZeroDivisionError:\n",
        "    print('error you are dividing by zero')\n",
        "  else:\n",
        "    return r\n",
        "func()"
      ],
      "execution_count": 6,
      "outputs": [
        {
          "output_type": "stream",
          "text": [
            "error you are dividing by zero\n"
          ],
          "name": "stdout"
        }
      ]
    },
    {
      "cell_type": "code",
      "metadata": {
        "colab": {
          "base_uri": "https://localhost:8080/"
        },
        "id": "TIlxILaZZrkA",
        "outputId": "57be6617-3a3c-4f7b-fae1-c238b260bda3"
      },
      "source": [
        "#   2. Implement a Python program to generate all sentences where subject is in\n",
        "# [\"Americans\", \"Indians\"] and verb is in [\"Play\", \"watch\"] and the object is in\n",
        "# [\"Baseball\",\"cricket\"].\n",
        "# Hint: Subject,Verb and Object should be declared in the program as shown below.\n",
        "# subjects=[\"Americans \",\"Indians\"]\n",
        "# verbs=[\"play\",\"watch\"]\n",
        "# objects=[\"Baseball\",\"Cricket\"]\n",
        "# Output should come as below:\n",
        "# Americans play Baseball.\n",
        "# Americans play Cricket.\n",
        "# Americans watch Baseball.\n",
        "# Americans watch Cricket.\n",
        "# Indians play Baseball.\n",
        "# Indians play Cricket.\n",
        "# Indians watch Baseball.\n",
        "# Indians watch Cricket.\n",
        "\n",
        "subjects=[\"Americans \",\"Indians\"]\n",
        "verbs=[\"play\",\"watch\"]\n",
        "objects=[\"Baseball\",\"Cricket\"]\n",
        "\n",
        "\n",
        "for i in subjects:\n",
        "  for j in verbs:\n",
        "    for k in objects:\n",
        "      print(f\"{i} {j} {k}\")"
      ],
      "execution_count": 15,
      "outputs": [
        {
          "output_type": "stream",
          "text": [
            "Americans  play Baseball\n",
            "Americans  play Cricket\n",
            "Americans  watch Baseball\n",
            "Americans  watch Cricket\n",
            "Indians play Baseball\n",
            "Indians play Cricket\n",
            "Indians watch Baseball\n",
            "Indians watch Cricket\n"
          ],
          "name": "stdout"
        }
      ]
    }
  ]
}